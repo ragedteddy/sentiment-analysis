{
 "cells": [
  {
   "cell_type": "code",
   "execution_count": 1,
   "metadata": {
    "colab": {},
    "colab_type": "code",
    "id": "f1rX9JzFKent"
   },
   "outputs": [],
   "source": [
    "#importing the necessary libraries\n",
    "\n",
    "import numpy as np\n",
    "import pandas as pd\n",
    "import matplotlib.pyplot as plt\n",
    "from keras.models import Sequential\n",
    "from keras.layers import Dense,Input\n",
    "import nltk\n",
    "import re\n",
    "from bs4 import BeautifulSoup\n",
    "from sklearn.feature_extraction.text import CountVectorizer\n",
    "from sklearn.preprocessing import LabelBinarizer"
   ]
  },
  {
   "cell_type": "code",
   "execution_count": 2,
   "metadata": {
    "colab": {
     "base_uri": "https://localhost:8080/",
     "height": 102
    },
    "colab_type": "code",
    "id": "Hhw32diNpL6_",
    "outputId": "967b4202-a013-476f-d6f7-e71568d13358"
   },
   "outputs": [
    {
     "name": "stderr",
     "output_type": "stream",
     "text": [
      "[nltk_data] Downloading package stopwords to C:\\Users\\Nikhil\n",
      "[nltk_data]     Kumar\\AppData\\Roaming\\nltk_data...\n",
      "[nltk_data]   Package stopwords is already up-to-date!\n",
      "[nltk_data] Downloading package wordnet to C:\\Users\\Nikhil\n",
      "[nltk_data]     Kumar\\AppData\\Roaming\\nltk_data...\n",
      "[nltk_data]   Package wordnet is already up-to-date!\n"
     ]
    },
    {
     "data": {
      "text/plain": [
       "True"
      ]
     },
     "execution_count": 2,
     "metadata": {},
     "output_type": "execute_result"
    }
   ],
   "source": [
    "nltk.download('stopwords')\n",
    "nltk.download('wordnet')"
   ]
  },
  {
   "cell_type": "code",
   "execution_count": 3,
   "metadata": {
    "colab": {
     "base_uri": "https://localhost:8080/",
     "height": 376
    },
    "colab_type": "code",
    "id": "XdVmp5EmKsgy",
    "outputId": "235bbc5d-07ae-450f-ac26-214ad72ca108"
   },
   "outputs": [
    {
     "name": "stdout",
     "output_type": "stream",
     "text": [
      "(50000, 2)\n"
     ]
    },
    {
     "data": {
      "text/html": [
       "<div>\n",
       "<style scoped>\n",
       "    .dataframe tbody tr th:only-of-type {\n",
       "        vertical-align: middle;\n",
       "    }\n",
       "\n",
       "    .dataframe tbody tr th {\n",
       "        vertical-align: top;\n",
       "    }\n",
       "\n",
       "    .dataframe thead th {\n",
       "        text-align: right;\n",
       "    }\n",
       "</style>\n",
       "<table border=\"1\" class=\"dataframe\">\n",
       "  <thead>\n",
       "    <tr style=\"text-align: right;\">\n",
       "      <th></th>\n",
       "      <th>review</th>\n",
       "      <th>sentiment</th>\n",
       "    </tr>\n",
       "  </thead>\n",
       "  <tbody>\n",
       "    <tr>\n",
       "      <th>0</th>\n",
       "      <td>One of the other reviewers has mentioned that ...</td>\n",
       "      <td>positive</td>\n",
       "    </tr>\n",
       "    <tr>\n",
       "      <th>1</th>\n",
       "      <td>A wonderful little production. &lt;br /&gt;&lt;br /&gt;The...</td>\n",
       "      <td>positive</td>\n",
       "    </tr>\n",
       "    <tr>\n",
       "      <th>2</th>\n",
       "      <td>I thought this was a wonderful way to spend ti...</td>\n",
       "      <td>positive</td>\n",
       "    </tr>\n",
       "    <tr>\n",
       "      <th>3</th>\n",
       "      <td>Basically there's a family where a little boy ...</td>\n",
       "      <td>negative</td>\n",
       "    </tr>\n",
       "    <tr>\n",
       "      <th>4</th>\n",
       "      <td>Petter Mattei's \"Love in the Time of Money\" is...</td>\n",
       "      <td>positive</td>\n",
       "    </tr>\n",
       "    <tr>\n",
       "      <th>5</th>\n",
       "      <td>Probably my all-time favorite movie, a story o...</td>\n",
       "      <td>positive</td>\n",
       "    </tr>\n",
       "    <tr>\n",
       "      <th>6</th>\n",
       "      <td>I sure would like to see a resurrection of a u...</td>\n",
       "      <td>positive</td>\n",
       "    </tr>\n",
       "    <tr>\n",
       "      <th>7</th>\n",
       "      <td>This show was an amazing, fresh &amp; innovative i...</td>\n",
       "      <td>negative</td>\n",
       "    </tr>\n",
       "    <tr>\n",
       "      <th>8</th>\n",
       "      <td>Encouraged by the positive comments about this...</td>\n",
       "      <td>negative</td>\n",
       "    </tr>\n",
       "    <tr>\n",
       "      <th>9</th>\n",
       "      <td>If you like original gut wrenching laughter yo...</td>\n",
       "      <td>positive</td>\n",
       "    </tr>\n",
       "  </tbody>\n",
       "</table>\n",
       "</div>"
      ],
      "text/plain": [
       "                                              review sentiment\n",
       "0  One of the other reviewers has mentioned that ...  positive\n",
       "1  A wonderful little production. <br /><br />The...  positive\n",
       "2  I thought this was a wonderful way to spend ti...  positive\n",
       "3  Basically there's a family where a little boy ...  negative\n",
       "4  Petter Mattei's \"Love in the Time of Money\" is...  positive\n",
       "5  Probably my all-time favorite movie, a story o...  positive\n",
       "6  I sure would like to see a resurrection of a u...  positive\n",
       "7  This show was an amazing, fresh & innovative i...  negative\n",
       "8  Encouraged by the positive comments about this...  negative\n",
       "9  If you like original gut wrenching laughter yo...  positive"
      ]
     },
     "execution_count": 3,
     "metadata": {},
     "output_type": "execute_result"
    }
   ],
   "source": [
    "# importing the training data\n",
    "\n",
    "df=pd.read_csv(\"IMDB Dataset.csv\")\n",
    "print(df.shape)\n",
    "df.head(10)"
   ]
  },
  {
   "cell_type": "code",
   "execution_count": 4,
   "metadata": {
    "colab": {
     "base_uri": "https://localhost:8080/",
     "height": 173
    },
    "colab_type": "code",
    "id": "tRJFs_9OPC4N",
    "outputId": "7c54060d-d6b7-4aec-93d9-adb7113116b8"
   },
   "outputs": [
    {
     "data": {
      "text/html": [
       "<div>\n",
       "<style scoped>\n",
       "    .dataframe tbody tr th:only-of-type {\n",
       "        vertical-align: middle;\n",
       "    }\n",
       "\n",
       "    .dataframe tbody tr th {\n",
       "        vertical-align: top;\n",
       "    }\n",
       "\n",
       "    .dataframe thead th {\n",
       "        text-align: right;\n",
       "    }\n",
       "</style>\n",
       "<table border=\"1\" class=\"dataframe\">\n",
       "  <thead>\n",
       "    <tr style=\"text-align: right;\">\n",
       "      <th></th>\n",
       "      <th>review</th>\n",
       "      <th>sentiment</th>\n",
       "    </tr>\n",
       "  </thead>\n",
       "  <tbody>\n",
       "    <tr>\n",
       "      <th>count</th>\n",
       "      <td>50000</td>\n",
       "      <td>50000</td>\n",
       "    </tr>\n",
       "    <tr>\n",
       "      <th>unique</th>\n",
       "      <td>49582</td>\n",
       "      <td>2</td>\n",
       "    </tr>\n",
       "    <tr>\n",
       "      <th>top</th>\n",
       "      <td>Loved today's show!!! It was a variety and not...</td>\n",
       "      <td>positive</td>\n",
       "    </tr>\n",
       "    <tr>\n",
       "      <th>freq</th>\n",
       "      <td>5</td>\n",
       "      <td>25000</td>\n",
       "    </tr>\n",
       "  </tbody>\n",
       "</table>\n",
       "</div>"
      ],
      "text/plain": [
       "                                                   review sentiment\n",
       "count                                               50000     50000\n",
       "unique                                              49582         2\n",
       "top     Loved today's show!!! It was a variety and not...  positive\n",
       "freq                                                    5     25000"
      ]
     },
     "execution_count": 4,
     "metadata": {},
     "output_type": "execute_result"
    }
   ],
   "source": [
    "#summary of the training data\n",
    "\n",
    "df.describe()"
   ]
  },
  {
   "cell_type": "code",
   "execution_count": 5,
   "metadata": {
    "colab": {
     "base_uri": "https://localhost:8080/",
     "height": 51
    },
    "colab_type": "code",
    "id": "yM3wUrNULUdA",
    "outputId": "49abf47f-8912-4978-9487-2dec9b41a41b"
   },
   "outputs": [
    {
     "name": "stdout",
     "output_type": "stream",
     "text": [
      "postive  25000\n",
      "negative  25000\n"
     ]
    }
   ],
   "source": [
    "#Checking the sentiment count\n",
    "\n",
    "print(\"postive \",np.sum(df[\"sentiment\"]==\"positive\"))\n",
    "print(\"negative \",np.sum(df[\"sentiment\"]==\"negative\"))"
   ]
  },
  {
   "cell_type": "code",
   "execution_count": 6,
   "metadata": {
    "colab": {},
    "colab_type": "code",
    "id": "mDZ0ETy8M0Lw"
   },
   "outputs": [],
   "source": [
    "#The dataset is balanced"
   ]
  },
  {
   "cell_type": "code",
   "execution_count": 7,
   "metadata": {
    "colab": {
     "base_uri": "https://localhost:8080/",
     "height": 204
    },
    "colab_type": "code",
    "id": "bpFtVgZJX3d6",
    "outputId": "213b9983-424d-4518-b66b-b126f4dbc908"
   },
   "outputs": [
    {
     "data": {
      "text/html": [
       "<div>\n",
       "<style scoped>\n",
       "    .dataframe tbody tr th:only-of-type {\n",
       "        vertical-align: middle;\n",
       "    }\n",
       "\n",
       "    .dataframe tbody tr th {\n",
       "        vertical-align: top;\n",
       "    }\n",
       "\n",
       "    .dataframe thead th {\n",
       "        text-align: right;\n",
       "    }\n",
       "</style>\n",
       "<table border=\"1\" class=\"dataframe\">\n",
       "  <thead>\n",
       "    <tr style=\"text-align: right;\">\n",
       "      <th></th>\n",
       "      <th>review</th>\n",
       "      <th>sentiment</th>\n",
       "    </tr>\n",
       "  </thead>\n",
       "  <tbody>\n",
       "    <tr>\n",
       "      <th>0</th>\n",
       "      <td>One of the other reviewers has mentioned that ...</td>\n",
       "      <td>positive</td>\n",
       "    </tr>\n",
       "    <tr>\n",
       "      <th>1</th>\n",
       "      <td>A wonderful little production The filming tech...</td>\n",
       "      <td>positive</td>\n",
       "    </tr>\n",
       "    <tr>\n",
       "      <th>2</th>\n",
       "      <td>I thought this was a wonderful way to spend ti...</td>\n",
       "      <td>positive</td>\n",
       "    </tr>\n",
       "    <tr>\n",
       "      <th>3</th>\n",
       "      <td>Basically theres a family where a little boy J...</td>\n",
       "      <td>negative</td>\n",
       "    </tr>\n",
       "    <tr>\n",
       "      <th>4</th>\n",
       "      <td>Petter Matteis Love in the Time of Money is a ...</td>\n",
       "      <td>positive</td>\n",
       "    </tr>\n",
       "  </tbody>\n",
       "</table>\n",
       "</div>"
      ],
      "text/plain": [
       "                                              review sentiment\n",
       "0  One of the other reviewers has mentioned that ...  positive\n",
       "1  A wonderful little production The filming tech...  positive\n",
       "2  I thought this was a wonderful way to spend ti...  positive\n",
       "3  Basically theres a family where a little boy J...  negative\n",
       "4  Petter Matteis Love in the Time of Money is a ...  positive"
      ]
     },
     "execution_count": 7,
     "metadata": {},
     "output_type": "execute_result"
    }
   ],
   "source": [
    "#Clearing the noise in the data - such as html blocks and special characters\n",
    "\n",
    "def clear_noise(text):\n",
    "  \n",
    "  # removing html scripts using Beautiful Soup\n",
    "  text1=BeautifulSoup(text)\n",
    "  text1=text1.get_text()\n",
    "\n",
    "  #removing all other character than alphabets and numbers using regular expression\n",
    "  text2=re.sub('[^a-zA-Z0-9\\s]', '', text1)\n",
    "\n",
    "  return text2\n",
    "\n",
    "df[\"review\"]=df[\"review\"].apply(clear_noise)\n",
    "df.head()"
   ]
  },
  {
   "cell_type": "code",
   "execution_count": 8,
   "metadata": {
    "colab": {},
    "colab_type": "code",
    "id": "xRcb7UE3gCpM"
   },
   "outputs": [],
   "source": [
    "# All html and other special characters got removed"
   ]
  },
  {
   "cell_type": "code",
   "execution_count": 9,
   "metadata": {
    "colab": {},
    "colab_type": "code",
    "id": "djJkJJybVajq"
   },
   "outputs": [],
   "source": [
    "# Now preprocessing the data according to the bag of word model"
   ]
  },
  {
   "cell_type": "code",
   "execution_count": 10,
   "metadata": {
    "colab": {},
    "colab_type": "code",
    "id": "YGwPH9gGk7Ct"
   },
   "outputs": [],
   "source": [
    "# 1. Tokenisation (Breaking down the document into words)\n",
    "\n",
    "def tokenize(text):\n",
    "  return text.split()\n",
    "\n",
    "# 2. Stopword Removal (Removal of words which are not meaningful for the model)\n",
    "\n",
    "sw=set(nltk.corpus.stopwords.words('english'))\n",
    "\n",
    "def stopword_removal(text):\n",
    "  useful_words=[w for w in text if w not in sw]\n",
    "  return useful_words\n",
    "\n",
    "# 3. Lemmatization (Changing all forms of a verb to root form like plays ,played etc. to play)\n",
    "\n",
    "wn=nltk.stem.WordNetLemmatizer()\n",
    "\n",
    "def lemmatize(text):\n",
    "  words=[wn.lemmatize(w) for w in text]\n",
    "  return words\n",
    "\n",
    "# 4. Building a vocabulary (Each sentence will have a feature vector)\n",
    "\n",
    "def myTokenizer(text):\n",
    "  text1=tokenize(text.lower())\n",
    "  text1=stopword_removal(text1)\n",
    "  text1=lemmatize(text1)\n",
    "  return text1\n",
    "\n",
    "cv=CountVectorizer(tokenizer=myTokenizer)"
   ]
  },
  {
   "cell_type": "code",
   "execution_count": 11,
   "metadata": {
    "colab": {
     "base_uri": "https://localhost:8080/",
     "height": 54
    },
    "colab_type": "code",
    "id": "k30MI7zmH9bg",
    "outputId": "141d7ea3-2392-45b6-8934-9a459c6b4b74"
   },
   "outputs": [
    {
     "name": "stdout",
     "output_type": "stream",
     "text": [
      "{'aren', 'ma', 'were', 'again', \"shouldn't\", \"you're\", 'll', 'and', \"doesn't\", 'under', 'nor', 'why', 'they', 'when', 'has', 'i', \"hasn't\", 'from', 'theirs', \"it's\", 'been', 'down', 'after', 'them', \"you'll\", 'hadn', 'each', 'm', 'her', 'up', \"wasn't\", 'having', 'mightn', 'shouldn', 'am', 'wasn', 'above', 'or', 'on', 'those', 'what', 'so', 'here', 'but', 'this', 'by', 'some', 'other', 'that', 'how', 'ain', 'against', 'his', 'no', \"don't\", 'off', 'herself', 'did', 'same', 'just', 'whom', 'd', 'needn', 'it', 'which', 'haven', 'out', 'very', 'all', 'couldn', 're', 'who', \"won't\", \"you've\", 'didn', 'yours', 'any', 'only', 'she', 'because', 'too', \"you'd\", 'doesn', 'into', 'me', 'a', 'to', 'few', \"should've\", 'of', 'do', 'before', \"mightn't\", \"mustn't\", 'than', 'themselves', 'don', 'until', 'won', 'these', 'such', 'while', \"shan't\", 'shan', 'through', \"isn't\", 'we', 'over', 'be', 'the', 'where', 'you', 'for', 'at', \"wouldn't\", 'was', 'as', \"haven't\", 'hasn', 'itself', \"aren't\", 'once', 'y', 'its', 'about', 'him', 'ourselves', \"that'll\", 'now', 'between', 'not', 'should', 'my', 's', 'himself', 'being', 'have', 'isn', 'our', 've', 'your', 'are', 'during', \"hadn't\", 'wouldn', 'myself', 'does', 'weren', 'he', 'in', 'with', 'an', 'mustn', \"needn't\", 'will', 'then', 'own', \"didn't\", 'there', 'yourselves', \"she's\", 'had', 'both', 'o', 'below', 't', 'ours', 'if', \"couldn't\", 'more', 'most', 'hers', \"weren't\", 'their', 'is', 'doing', 'can', 'further', 'yourself'}\n"
     ]
    }
   ],
   "source": [
    "print(sw)"
   ]
  },
  {
   "cell_type": "code",
   "execution_count": 12,
   "metadata": {
    "colab": {
     "base_uri": "https://localhost:8080/",
     "height": 51
    },
    "colab_type": "code",
    "id": "MV_VoOEBTr8k",
    "outputId": "db00a20e-0d7d-42b5-e3ee-14986b8d1f9d"
   },
   "outputs": [
    {
     "name": "stdout",
     "output_type": "stream",
     "text": [
      "(35000,) <class 'pandas.core.series.Series'>\n",
      "(10000,) <class 'pandas.core.series.Series'>\n"
     ]
    }
   ],
   "source": [
    "#Splitting the training data - (Training and Testing data)\n",
    "\n",
    "train_x=df.review[:35000]\n",
    "train_y=df.sentiment[:35000]\n",
    "\n",
    "val_x=df.review[35000:40000]\n",
    "val_y=df.sentiment[35000:40000]\n",
    "\n",
    "test_x=df.review[40000:]\n",
    "test_y=df.sentiment[40000:]\n",
    "\n",
    "print(train_x.shape,type(train_x))\n",
    "print(test_x.shape,type(test_x))"
   ]
  },
  {
   "cell_type": "code",
   "execution_count": 13,
   "metadata": {
    "colab": {},
    "colab_type": "code",
    "id": "o4UuyurHuD-U"
   },
   "outputs": [],
   "source": [
    "# Applying all the above operations on the training data\n",
    "\n",
    "vectorised_data=cv.fit_transform(train_x)"
   ]
  },
  {
   "cell_type": "code",
   "execution_count": 14,
   "metadata": {
    "colab": {
     "base_uri": "https://localhost:8080/",
     "height": 34
    },
    "colab_type": "code",
    "id": "jHqEMUrFwAYx",
    "outputId": "d8ad2778-9a58-4dc0-b2f6-6f980759a834"
   },
   "outputs": [
    {
     "name": "stdout",
     "output_type": "stream",
     "text": [
      "(35000, 166729)\n"
     ]
    }
   ],
   "source": [
    "print(vectorised_data.shape)"
   ]
  },
  {
   "cell_type": "code",
   "execution_count": 15,
   "metadata": {
    "colab": {},
    "colab_type": "code",
    "id": "mKMbN9YlxKyh"
   },
   "outputs": [],
   "source": [
    "# Converting the test and train data in vectorised form\n",
    "\n",
    "cv_train=cv.transform(train_x)\n",
    "cv_val=cv.transform(val_x)\n",
    "cv_test=cv.transform(test_x)"
   ]
  },
  {
   "cell_type": "code",
   "execution_count": 16,
   "metadata": {
    "colab": {
     "base_uri": "https://localhost:8080/",
     "height": 34
    },
    "colab_type": "code",
    "id": "wvB23wTG05xU",
    "outputId": "70d888e4-3f39-4a3b-c652-297f45c178ed"
   },
   "outputs": [
    {
     "name": "stdout",
     "output_type": "stream",
     "text": [
      "(35000, 166729)\n",
      "(5000, 166729)\n",
      "(10000, 166729)\n"
     ]
    }
   ],
   "source": [
    "print(cv_train.shape)\n",
    "print(cv_val.shape)\n",
    "print(cv_test.shape)"
   ]
  },
  {
   "cell_type": "code",
   "execution_count": 17,
   "metadata": {
    "colab": {
     "base_uri": "https://localhost:8080/",
     "height": 34
    },
    "colab_type": "code",
    "id": "kTQopzg4tbI7",
    "outputId": "41ca48d9-7139-4c84-ab8c-afc64ca324ba"
   },
   "outputs": [
    {
     "name": "stdout",
     "output_type": "stream",
     "text": [
      "(50000, 1)\n"
     ]
    }
   ],
   "source": [
    "# Labelling the sentiment data\n",
    "\n",
    "lb=LabelBinarizer()\n",
    "sentiment_data=lb.fit_transform(df['sentiment'])\n",
    "print(sentiment_data.shape)\n",
    "\n",
    "train_sentiments=sentiment_data[:35000]\n",
    "val_sentiments=sentiment_data[35000:40000]\n",
    "test_sentiments=sentiment_data[40000:]"
   ]
  },
  {
   "cell_type": "code",
   "execution_count": 18,
   "metadata": {
    "colab": {
     "base_uri": "https://localhost:8080/",
     "height": 255
    },
    "colab_type": "code",
    "id": "RuxYzRVSlp1Z",
    "outputId": "c68dd8fa-60d3-4494-e54e-0221a91aabbf"
   },
   "outputs": [
    {
     "name": "stdout",
     "output_type": "stream",
     "text": [
      "Model: \"sequential\"\n",
      "_________________________________________________________________\n",
      "Layer (type)                 Output Shape              Param #   \n",
      "=================================================================\n",
      "dense (Dense)                (None, 16)                2667680   \n",
      "_________________________________________________________________\n",
      "dense_1 (Dense)              (None, 16)                272       \n",
      "_________________________________________________________________\n",
      "dense_2 (Dense)              (None, 1)                 17        \n",
      "=================================================================\n",
      "Total params: 2,667,969\n",
      "Trainable params: 2,667,969\n",
      "Non-trainable params: 0\n",
      "_________________________________________________________________\n"
     ]
    }
   ],
   "source": [
    "# Building the MLP (Multi layer perceptron) Model\n",
    "model=Sequential()\n",
    "model.add(Input(shape=(166729,),sparse=True))\n",
    "model.add(Dense(16,activation=\"relu\"))\n",
    "model.add(Dense(16,activation=\"relu\"))\n",
    "model.add(Dense(1,activation=\"sigmoid\"))\n",
    "\n",
    "model.compile(optimizer='sgd',loss='binary_crossentropy',metrics=['accuracy'])\n",
    "\n",
    "model.summary()"
   ]
  },
  {
   "cell_type": "code",
   "execution_count": 19,
   "metadata": {
    "colab": {
     "base_uri": "https://localhost:8080/",
     "height": 1000
    },
    "colab_type": "code",
    "id": "iLO1PRG1lsH5",
    "outputId": "8cd29c16-4e1f-48a5-b9db-e94b8e1e81c3"
   },
   "outputs": [
    {
     "name": "stdout",
     "output_type": "stream",
     "text": [
      "Epoch 1/50\n",
      "69/69 [==============================] - 1s 18ms/step - loss: 0.6894 - accuracy: 0.5754 - val_loss: 0.6830 - val_accuracy: 0.6448\n",
      "Epoch 2/50\n",
      "69/69 [==============================] - 1s 20ms/step - loss: 0.6713 - accuracy: 0.7026 - val_loss: 0.6594 - val_accuracy: 0.7442\n",
      "Epoch 3/50\n",
      "69/69 [==============================] - 1s 17ms/step - loss: 0.6447 - accuracy: 0.7650 - val_loss: 0.6323 - val_accuracy: 0.7722\n",
      "Epoch 4/50\n",
      "69/69 [==============================] - 1s 16ms/step - loss: 0.6156 - accuracy: 0.7920 - val_loss: 0.6027 - val_accuracy: 0.7900\n",
      "Epoch 5/50\n",
      "69/69 [==============================] - 1s 15ms/step - loss: 0.5841 - accuracy: 0.8067 - val_loss: 0.5711 - val_accuracy: 0.8030\n",
      "Epoch 6/50\n",
      "69/69 [==============================] - 1s 16ms/step - loss: 0.5510 - accuracy: 0.8160 - val_loss: 0.5386 - val_accuracy: 0.8142\n",
      "Epoch 7/50\n",
      "69/69 [==============================] - 1s 15ms/step - loss: 0.5183 - accuracy: 0.8237 - val_loss: 0.5074 - val_accuracy: 0.8232\n",
      "Epoch 8/50\n",
      "69/69 [==============================] - 1s 15ms/step - loss: 0.4875 - accuracy: 0.8307 - val_loss: 0.4787 - val_accuracy: 0.8312\n",
      "Epoch 9/50\n",
      "69/69 [==============================] - 1s 17ms/step - loss: 0.4598 - accuracy: 0.8375 - val_loss: 0.4536 - val_accuracy: 0.8372\n",
      "Epoch 10/50\n",
      "69/69 [==============================] - 1s 15ms/step - loss: 0.4356 - accuracy: 0.8426 - val_loss: 0.4318 - val_accuracy: 0.8438\n",
      "Epoch 11/50\n",
      "69/69 [==============================] - 1s 14ms/step - loss: 0.4146 - accuracy: 0.8483 - val_loss: 0.4136 - val_accuracy: 0.8462\n",
      "Epoch 12/50\n",
      "69/69 [==============================] - 1s 19ms/step - loss: 0.3965 - accuracy: 0.8529 - val_loss: 0.3974 - val_accuracy: 0.8520\n",
      "Epoch 13/50\n",
      "69/69 [==============================] - 1s 15ms/step - loss: 0.3807 - accuracy: 0.8584 - val_loss: 0.3837 - val_accuracy: 0.8566\n",
      "Epoch 14/50\n",
      "69/69 [==============================] - 1s 13ms/step - loss: 0.3668 - accuracy: 0.8629 - val_loss: 0.3719 - val_accuracy: 0.8596\n",
      "Epoch 15/50\n",
      "69/69 [==============================] - 1s 14ms/step - loss: 0.3542 - accuracy: 0.8671 - val_loss: 0.3610 - val_accuracy: 0.8636\n",
      "Epoch 16/50\n",
      "69/69 [==============================] - 1s 14ms/step - loss: 0.3427 - accuracy: 0.8721 - val_loss: 0.3523 - val_accuracy: 0.8650\n",
      "Epoch 17/50\n",
      "69/69 [==============================] - ETA: 0s - loss: 0.3323 - accuracy: 0.87 - 1s 13ms/step - loss: 0.3325 - accuracy: 0.8755 - val_loss: 0.3443 - val_accuracy: 0.8688\n",
      "Epoch 18/50\n",
      "69/69 [==============================] - 1s 15ms/step - loss: 0.3231 - accuracy: 0.8788 - val_loss: 0.3370 - val_accuracy: 0.8702\n",
      "Epoch 19/50\n",
      "69/69 [==============================] - 1s 14ms/step - loss: 0.3145 - accuracy: 0.8822 - val_loss: 0.3306 - val_accuracy: 0.8752\n",
      "Epoch 20/50\n",
      "69/69 [==============================] - 1s 14ms/step - loss: 0.3064 - accuracy: 0.8851 - val_loss: 0.3251 - val_accuracy: 0.8756\n",
      "Epoch 21/50\n",
      "69/69 [==============================] - 1s 15ms/step - loss: 0.2990 - accuracy: 0.8883 - val_loss: 0.3201 - val_accuracy: 0.8788\n",
      "Epoch 22/50\n",
      "69/69 [==============================] - 1s 15ms/step - loss: 0.2922 - accuracy: 0.8903 - val_loss: 0.3157 - val_accuracy: 0.8790\n",
      "Epoch 23/50\n",
      "69/69 [==============================] - 1s 19ms/step - loss: 0.2857 - accuracy: 0.8931 - val_loss: 0.3119 - val_accuracy: 0.8812\n",
      "Epoch 24/50\n",
      "69/69 [==============================] - 1s 15ms/step - loss: 0.2798 - accuracy: 0.8957 - val_loss: 0.3081 - val_accuracy: 0.8826\n",
      "Epoch 25/50\n",
      "69/69 [==============================] - 1s 19ms/step - loss: 0.2739 - accuracy: 0.8981 - val_loss: 0.3053 - val_accuracy: 0.8824\n",
      "Epoch 26/50\n",
      "69/69 [==============================] - 1s 19ms/step - loss: 0.2686 - accuracy: 0.8998 - val_loss: 0.3021 - val_accuracy: 0.8840\n",
      "Epoch 27/50\n",
      "69/69 [==============================] - 1s 19ms/step - loss: 0.2634 - accuracy: 0.9019 - val_loss: 0.3002 - val_accuracy: 0.8866\n",
      "Epoch 28/50\n",
      "69/69 [==============================] - 1s 18ms/step - loss: 0.2588 - accuracy: 0.9031 - val_loss: 0.2982 - val_accuracy: 0.8860\n",
      "Epoch 29/50\n",
      "69/69 [==============================] - 1s 18ms/step - loss: 0.2542 - accuracy: 0.9059 - val_loss: 0.2953 - val_accuracy: 0.8874\n",
      "Epoch 30/50\n",
      "69/69 [==============================] - 1s 15ms/step - loss: 0.2497 - accuracy: 0.9067 - val_loss: 0.2935 - val_accuracy: 0.8886\n",
      "Epoch 31/50\n",
      "69/69 [==============================] - 1s 14ms/step - loss: 0.2456 - accuracy: 0.9090 - val_loss: 0.2928 - val_accuracy: 0.8874\n",
      "Epoch 32/50\n",
      "69/69 [==============================] - 1s 15ms/step - loss: 0.2416 - accuracy: 0.9101 - val_loss: 0.2903 - val_accuracy: 0.8882\n",
      "Epoch 33/50\n",
      "69/69 [==============================] - 1s 15ms/step - loss: 0.2376 - accuracy: 0.9112 - val_loss: 0.2893 - val_accuracy: 0.8884\n",
      "Epoch 34/50\n",
      "69/69 [==============================] - 1s 14ms/step - loss: 0.2340 - accuracy: 0.9123 - val_loss: 0.2879 - val_accuracy: 0.8892\n",
      "Epoch 35/50\n",
      "69/69 [==============================] - 1s 16ms/step - loss: 0.2304 - accuracy: 0.9143 - val_loss: 0.2872 - val_accuracy: 0.8888\n",
      "Epoch 36/50\n",
      "69/69 [==============================] - 1s 14ms/step - loss: 0.2268 - accuracy: 0.9153 - val_loss: 0.2855 - val_accuracy: 0.8900\n",
      "Epoch 37/50\n",
      "69/69 [==============================] - 1s 15ms/step - loss: 0.2234 - accuracy: 0.9167 - val_loss: 0.2848 - val_accuracy: 0.8912\n",
      "Epoch 38/50\n",
      "69/69 [==============================] - 1s 16ms/step - loss: 0.2202 - accuracy: 0.9178 - val_loss: 0.2840 - val_accuracy: 0.8902\n",
      "Epoch 39/50\n",
      "69/69 [==============================] - 1s 18ms/step - loss: 0.2170 - accuracy: 0.9190 - val_loss: 0.2832 - val_accuracy: 0.8904\n",
      "Epoch 40/50\n",
      "69/69 [==============================] - 1s 14ms/step - loss: 0.2138 - accuracy: 0.9205 - val_loss: 0.2842 - val_accuracy: 0.8910\n",
      "Epoch 41/50\n",
      "69/69 [==============================] - 1s 15ms/step - loss: 0.2108 - accuracy: 0.9224 - val_loss: 0.2835 - val_accuracy: 0.8910\n",
      "Epoch 42/50\n",
      "69/69 [==============================] - 1s 14ms/step - loss: 0.2078 - accuracy: 0.9227 - val_loss: 0.2825 - val_accuracy: 0.8890\n",
      "Epoch 43/50\n",
      "69/69 [==============================] - 1s 15ms/step - loss: 0.2049 - accuracy: 0.9242 - val_loss: 0.2834 - val_accuracy: 0.8878\n",
      "Epoch 44/50\n",
      "69/69 [==============================] - 1s 15ms/step - loss: 0.2022 - accuracy: 0.9249 - val_loss: 0.2819 - val_accuracy: 0.8912\n",
      "Epoch 45/50\n",
      "69/69 [==============================] - 1s 18ms/step - loss: 0.1994 - accuracy: 0.9269 - val_loss: 0.2811 - val_accuracy: 0.8888\n",
      "Epoch 46/50\n",
      "69/69 [==============================] - 1s 15ms/step - loss: 0.1966 - accuracy: 0.9275 - val_loss: 0.2810 - val_accuracy: 0.8904\n",
      "Epoch 47/50\n",
      "69/69 [==============================] - 1s 16ms/step - loss: 0.1939 - accuracy: 0.9292 - val_loss: 0.2813 - val_accuracy: 0.8892\n",
      "Epoch 48/50\n",
      "69/69 [==============================] - 1s 14ms/step - loss: 0.1914 - accuracy: 0.9301 - val_loss: 0.2809 - val_accuracy: 0.8894\n",
      "Epoch 49/50\n",
      "69/69 [==============================] - 1s 14ms/step - loss: 0.1888 - accuracy: 0.9316 - val_loss: 0.2807 - val_accuracy: 0.8892\n",
      "Epoch 50/50\n",
      "69/69 [==============================] - 1s 14ms/step - loss: 0.1862 - accuracy: 0.9331 - val_loss: 0.2807 - val_accuracy: 0.8906\n"
     ]
    }
   ],
   "source": [
    "hist=model.fit(cv_train,train_sentiments,epochs=50,batch_size=512,validation_data=(cv_val,val_sentiments))"
   ]
  },
  {
   "cell_type": "code",
   "execution_count": 20,
   "metadata": {
    "colab": {
     "base_uri": "https://localhost:8080/",
     "height": 282
    },
    "colab_type": "code",
    "id": "hxkPXU3B1VVB",
    "outputId": "864c9d8d-0624-4f78-c542-b228c848ab44"
   },
   "outputs": [
    {
     "data": {
      "image/png": "[encoded data removed]",
      "text/plain": [
       "<Figure size 432x288 with 1 Axes>"
      ]
     },
     "metadata": {
      "needs_background": "light"
     },
     "output_type": "display_data"
    }
   ],
   "source": [
    "h=hist.history\n",
    "plt.plot(h['val_loss'],label=\"validation loss\")\n",
    "plt.plot(h['loss'],label=\"training_loss\")\n",
    "plt.xlabel(\"Epochs\")\n",
    "plt.ylabel(\"Loss\")\n",
    "plt.legend()\n",
    "plt.show()"
   ]
  },
  {
   "cell_type": "code",
   "execution_count": 21,
   "metadata": {
    "colab": {
     "base_uri": "https://localhost:8080/",
     "height": 279
    },
    "colab_type": "code",
    "id": "QeJ8Qoem4XqL",
    "outputId": "3281e08b-7bc8-421f-82c4-c737d4867583"
   },
   "outputs": [
    {
     "data": {
      "image/png": "[encoded data removed]",
      "text/plain": [
       "<Figure size 432x288 with 1 Axes>"
      ]
     },
     "metadata": {
      "needs_background": "light"
     },
     "output_type": "display_data"
    }
   ],
   "source": [
    "plt.plot(h['accuracy'],label=\"training_accuracy\")\n",
    "plt.plot(h['val_accuracy'],label=\"val_accuracy\")\n",
    "plt.xlabel(\"Epochs\")\n",
    "plt.ylabel(\"Accuracy\")\n",
    "plt.legend()\n",
    "plt.show()"
   ]
  },
  {
   "cell_type": "code",
   "execution_count": 22,
   "metadata": {
    "colab": {
     "base_uri": "https://localhost:8080/",
     "height": 51
    },
    "colab_type": "code",
    "id": "_Dl_98dM5n2t",
    "outputId": "50ef4b6a-212e-434e-efa8-1091691b44b1"
   },
   "outputs": [
    {
     "name": "stdout",
     "output_type": "stream",
     "text": [
      "313/313 [==============================] - 0s 942us/step - loss: 0.2816 - accuracy: 0.8880\n"
     ]
    },
    {
     "data": {
      "text/plain": [
       "[0.2815687358379364, 0.8880000114440918]"
      ]
     },
     "execution_count": 22,
     "metadata": {},
     "output_type": "execute_result"
    }
   ],
   "source": [
    "model.evaluate(cv_test,test_sentiments)"
   ]
  },
  {
   "cell_type": "code",
   "execution_count": 23,
   "metadata": {
    "colab": {},
    "colab_type": "code",
    "id": "tNpS6EN96dlr"
   },
   "outputs": [],
   "source": [
    "# Got around 89 percent accuracy."
   ]
  },
  {
   "cell_type": "code",
   "execution_count": null,
   "metadata": {
    "colab": {},
    "colab_type": "code",
    "id": "nGcuKsrI7Wip"
   },
   "outputs": [],
   "source": []
  }
 ],
 "metadata": {
  "accelerator": "GPU",
  "colab": {
   "collapsed_sections": [],
   "name": "Sentiment Analysis.ipynb",
   "provenance": []
  },
  "kernelspec": {
   "display_name": "Python 3",
   "language": "python",
   "name": "python3"
  },
  "language_info": {
   "codemirror_mode": {
    "name": "ipython",
    "version": 3
   },
   "file_extension": ".py",
   "mimetype": "text/x-python",
   "name": "python",
   "nbconvert_exporter": "python",
   "pygments_lexer": "ipython3",
   "version": "3.8.8"
  }
 },
 "nbformat": 4,
 "nbformat_minor": 1
}
